{
 "cells": [
  {
   "cell_type": "markdown",
   "metadata": {},
   "source": [
    "# Image classifier for 3 vs 7\n",
    "\n",
    "Adapted from code in lesson 4."
   ]
  },
  {
   "cell_type": "code",
   "execution_count": 80,
   "metadata": {},
   "outputs": [],
   "source": [
    "# Setup fastbook\n",
    "import fastbook\n",
    "fastbook.setup_book()"
   ]
  },
  {
   "cell_type": "code",
   "execution_count": 81,
   "metadata": {},
   "outputs": [],
   "source": [
    "# Import libraries\n",
    "from fastai.vision.all import *\n",
    "from fastbook import *"
   ]
  },
  {
   "cell_type": "code",
   "execution_count": 82,
   "metadata": {},
   "outputs": [
    {
     "name": "stdout",
     "output_type": "stream",
     "text": [
      "Loading: https://s3.amazonaws.com/fast-ai-sample/mnist_sample.tgz\n",
      "Save to: /home/jupyter/.fastai/data/mnist_sample\n"
     ]
    }
   ],
   "source": [
    "# Load data\n",
    "print(\"Loading: {0}\".format(URLs.MNIST_SAMPLE))\n",
    "data_path = untar_data(URLs.MNIST_SAMPLE)\n",
    "print(\"Save to: {0}\".format(data_path))\n",
    "\n",
    "# Tell fastbook.Path to use current path as base directory\n",
    "Path.BASE_PATH = data_path"
   ]
  },
  {
   "cell_type": "code",
   "execution_count": 83,
   "metadata": {},
   "outputs": [],
   "source": [
    "import pathlib\n",
    "\n",
    "def pprint_path(path):\n",
    "    slash = \"\"\n",
    "    name = \"...\"\n",
    "    if isinstance(path, pathlib.Path):\n",
    "        slash = \"/\" if path.is_dir() else \"\"\n",
    "        name = path.name\n",
    "    return \"{name}{slash}\".format(name=name, slash=slash)\n",
    "\n",
    "def pprint_dir(path, indent=0, max_depth=3, max_per_dir=4):\n",
    "    print(\"{indent}{path}\".format(path=pprint_path(path), indent=\"  \" * indent))\n",
    "    \n",
    "    if indent < max_depth and path.is_dir():\n",
    "        # Get paths and truncate to max_per_dir\n",
    "        paths = list(path.iterdir())\n",
    "        if len(paths) > max_per_dir:\n",
    "            paths = paths[:max_per_dir] + [\"...\"]\n",
    "        \n",
    "        # If next indent level equals max_depth then print all contents on 1 line\n",
    "        if indent + 1 == max_depth:\n",
    "            print(\"{indent}{paths}\".format(indent=\"  \" * (indent + 1),\n",
    "                                           paths=\" \".join(pprint_path(p) for p in paths)))\n",
    "            return\n",
    "        \n",
    "        for p in paths:\n",
    "            pprint_dir(p, indent+1)"
   ]
  },
  {
   "cell_type": "code",
   "execution_count": 84,
   "metadata": {},
   "outputs": [
    {
     "name": "stdout",
     "output_type": "stream",
     "text": [
      "mnist_sample/\n",
      "  train/\n",
      "    7/\n",
      "      1899.png 15818.png 14403.png 22871.png ...\n",
      "    3/\n",
      "      7.png 54413.png 35407.png 47605.png ...\n",
      "  labels.csv\n",
      "  valid/\n",
      "    7/\n",
      "      1133.png 1919.png 4736.png 9300.png ...\n",
      "    3/\n",
      "      5724.png 7476.png 2020.png 8050.png ...\n"
     ]
    }
   ],
   "source": [
    "pprint_dir(data_path, max_depth=4)"
   ]
  },
  {
   "cell_type": "code",
   "execution_count": 33,
   "metadata": {},
   "outputs": [
    {
     "name": "stdout",
     "output_type": "stream",
     "text": [
      "Data sizes:\n",
      "train:\n",
      "   3: 6131 7: 6265\n",
      "validation:\n",
      "   3: 1010 7: 1028\n"
     ]
    }
   ],
   "source": [
    "def paths_in_dir(path):\n",
    "    return path.ls().sorted()\n",
    "\n",
    "# Load data\n",
    "threes_train = paths_in_dir(data_path/'train/3')\n",
    "threes_valid = paths_in_dir(data_path/'valid/3')\n",
    "sevens_train = paths_in_dir(data_path/'train/7')\n",
    "sevens_valid = paths_in_dir(data_path/'valid/7')\n",
    "\n",
    "print(\"Data sizes:\")\n",
    "print(\"train:\")\n",
    "print(\"   3: {0} 7: {1}\".format(len(threes_train), len(sevens_train)))\n",
    "print(\"validation:\")\n",
    "print(\"   3: {0} 7: {1}\".format(len(threes_valid), len(sevens_valid)))"
   ]
  },
  {
   "cell_type": "code",
   "execution_count": 100,
   "metadata": {},
   "outputs": [
    {
     "data": {
      "image/png": "[encoded data removed]",
      "text/plain": [
       "<PIL.PngImagePlugin.PngImageFile image mode=L size=28x28 at 0x7F643C6B1A58>"
      ]
     },
     "metadata": {},
     "output_type": "display_data"
    },
    {
     "data": {
      "image/png": "[encoded data removed]",
      "text/plain": [
       "<PIL.PngImagePlugin.PngImageFile image mode=L size=28x28 at 0x7F643C6B1F60>"
      ]
     },
     "metadata": {},
     "output_type": "display_data"
    },
    {
     "data": {
      "image/png": "[encoded data removed]",
      "text/plain": [
       "<PIL.PngImagePlugin.PngImageFile image mode=L size=28x28 at 0x7F643C6B1B38>"
      ]
     },
     "metadata": {},
     "output_type": "display_data"
    },
    {
     "data": {
      "image/png": "[encoded data removed]",
      "text/plain": [
       "<PIL.PngImagePlugin.PngImageFile image mode=L size=28x28 at 0x7F643C6B1D68>"
      ]
     },
     "metadata": {},
     "output_type": "display_data"
    },
    {
     "data": {
      "image/png": "[encoded data removed]",
      "text/plain": [
       "<PIL.PngImagePlugin.PngImageFile image mode=L size=28x28 at 0x7F643C6B1CF8>"
      ]
     },
     "metadata": {},
     "output_type": "display_data"
    },
    {
     "data": {
      "image/png": "[encoded data removed]",
      "text/plain": [
       "<PIL.PngImagePlugin.PngImageFile image mode=L size=28x28 at 0x7F643C6B1F98>"
      ]
     },
     "metadata": {},
     "output_type": "display_data"
    },
    {
     "data": {
      "image/png": "[encoded data removed]",
      "text/plain": [
       "<PIL.PngImagePlugin.PngImageFile image mode=L size=28x28 at 0x7F643C6B1AC8>"
      ]
     },
     "metadata": {},
     "output_type": "display_data"
    },
    {
     "data": {
      "image/png": "[encoded data removed]",
      "text/plain": [
       "<PIL.PngImagePlugin.PngImageFile image mode=L size=28x28 at 0x7F643C6B1C88>"
      ]
     },
     "metadata": {},
     "output_type": "display_data"
    }
   ],
   "source": [
    "# Take a peek\n",
    "num_samples = 2\n",
    "\n",
    "imgs = [Image.open(p) for p in random.sample(threes_train, num_samples)]\n",
    "imgs += [Image.open(p) for p in random.sample(threes_valid, num_samples)]\n",
    "imgs += [Image.open(p) for p in random.sample(sevens_train, num_samples)]\n",
    "imgs += [Image.open(p) for p in random.sample(sevens_valid, num_samples)]\n",
    "\n",
    "display(*imgs)"
   ]
  },
  {
   "cell_type": "code",
   "execution_count": 118,
   "metadata": {},
   "outputs": [
    {
     "data": {
      "image/png": "[encoded data removed]",
      "text/plain": [
       "<Figure size 432x144 with 3 Axes>"
      ]
     },
     "metadata": {
      "needs_background": "light"
     },
     "output_type": "display_data"
    },
    {
     "data": {
      "image/png": "[encoded data removed]",
      "text/plain": [
       "<Figure size 432x144 with 3 Axes>"
      ]
     },
     "metadata": {
      "needs_background": "light"
     },
     "output_type": "display_data"
    },
    {
     "data": {
      "image/png": "[encoded data removed]",
      "text/plain": [
       "<Figure size 432x144 with 3 Axes>"
      ]
     },
     "metadata": {
      "needs_background": "light"
     },
     "output_type": "display_data"
    },
    {
     "data": {
      "image/png": "[encoded data removed]",
      "text/plain": [
       "<Figure size 432x144 with 3 Axes>"
      ]
     },
     "metadata": {
      "needs_background": "light"
     },
     "output_type": "display_data"
    }
   ],
   "source": [
    "def show_imgs(imgs, num_samples):\n",
    "    samples = random.sample(imgs, num_samples)\n",
    "    imgs = [Image.open(p) for p in samples]\n",
    "    filenames = [p.name for p in samples]\n",
    "    show_images(imgs, titles=filenames, imsize=2)\n",
    "\n",
    "show_imgs(threes_train, 3)\n",
    "show_imgs(threes_valid, 3)\n",
    "show_imgs(sevens_train, 3)\n",
    "show_imgs(sevens_valid, 3)"
   ]
  },
  {
   "cell_type": "code",
   "execution_count": 104,
   "metadata": {},
   "outputs": [],
   "source": [
    "# Convert to tensors\n",
    "def path_to_tensor(*paths):\n",
    "    return [tensor(Image.open(p)) for p in paths]\n",
    "\n",
    "# Convert image files into tensors\n",
    "threes_train_tensors = path_to_tensor(*threes_train)\n",
    "threes_valid_tensors = path_to_tensor(*threes_valid)\n",
    "sevens_train_tensors = path_to_tensor(*sevens_train)\n",
    "sevens_valid_tensors = path_to_tensor(*sevens_valid)"
   ]
  },
  {
   "cell_type": "code",
   "execution_count": 120,
   "metadata": {},
   "outputs": [
    {
     "data": {
      "text/plain": [
       "(torch.Size([6131, 28, 28]),\n",
       " torch.Size([1010, 28, 28]),\n",
       " torch.Size([6265, 28, 28]),\n",
       " torch.Size([1028, 28, 28]))"
      ]
     },
     "execution_count": 120,
     "metadata": {},
     "output_type": "execute_result"
    }
   ],
   "source": [
    "# Stack together for efficient processing\n",
    "threes_train_stacked = torch.stack(threes_train_tensors)\n",
    "threes_valid_stacked = torch.stack(threes_valid_tensors)\n",
    "sevens_train_stacked = torch.stack(sevens_train_tensors)\n",
    "sevens_valid_stacked = torch.stack(sevens_valid_tensors)\n",
    "\n",
    "threes_train_stacked.shape, threes_valid_stacked.shape, sevens_train_stacked.shape, sevens_valid_stacked.shape"
   ]
  },
  {
   "cell_type": "code",
   "execution_count": 124,
   "metadata": {},
   "outputs": [
    {
     "name": "stdout",
     "output_type": "stream",
     "text": [
      "dset: 12396 x: torch.Size([12396, 784]) y: torch.Size([12396, 1])\n",
      "dset: 2038 x: torch.Size([2038, 784]) y: torch.Size([2038, 1])\n"
     ]
    }
   ],
   "source": [
    "def to_dataset(threes, sevens):\n",
    "    num_threes = threes.shape[0]\n",
    "    num_sevens = sevens.shape[0]\n",
    "    \n",
    "    instances = torch.cat([threes, sevens]).float() / 255 # Squish all pixel values to between 0 and 1.\n",
    "    instances = instances.view(-1, 28*28)  # Convert from 28 x 28 grid of pixels to single row\n",
    "    \n",
    "    # create a list of tensors representing the label\n",
    "    labels = tensor([1] * num_threes + [0] * num_sevens).unsqueeze(1)\n",
    "    \n",
    "    dset = list(zip(instances, labels))\n",
    "    \n",
    "    print(\"dset: {0} x: {1} y: {2}\".format(len(dset), instances.shape, labels.shape))\n",
    "    \n",
    "    return dset, instances, labels\n",
    "    \n",
    "dset, instances, labels = to_dataset(threes_train_stacked, sevens_train_stacked)\n",
    "dset_valid, instances_valid, labels_valid = to_dataset(threes_valid_stacked, sevens_valid_stacked)"
   ]
  },
  {
   "cell_type": "code",
   "execution_count": 220,
   "metadata": {},
   "outputs": [],
   "source": [
    "# Define basic linear model.\n",
    "class LinearModel(object):\n",
    "    \n",
    "    def __init__(self, weights, bias):\n",
    "        self.weights = weights\n",
    "        self.bias = bias\n",
    "        \n",
    "        self.weights.requires_grad_()\n",
    "        self.bias.requires_grad_()\n",
    "        \n",
    "    def classify(self, x):\n",
    "        return x @ self.weights + self.bias\n",
    "    \n",
    "# Stochastic gradient descent means use gradient descent on a single training\n",
    "# example at a time. (Batch) Gradient Descent means use the whole training\n",
    "# set.\n",
    "class StochasticGradientDescent(object):\n",
    "\n",
    "    def __init__(self, model, lr, loss):\n",
    "        self.model = model\n",
    "        self.lr = lr  # learning rate\n",
    "        self.loss = loss\n",
    "        \n",
    "    def step(self, x, labels):\n",
    "        predictions = self.model.classify(x)\n",
    "        \n",
    "        loss = self.loss(predictions, labels)\n",
    "        # Auto compute gradient and store in .grad (of all tensors which\n",
    "        # have .requires_grad_() called.)\n",
    "        loss.backward()\n",
    "        \n",
    "        # Update in direction of gradient\n",
    "        self.model.weights.data -= self.model.weights.grad * self.lr\n",
    "        self.model.weights.grad.zero_()  # Clear out gradient\n",
    "        \n",
    "        self.model.bias.data -= self.model.bias.grad * self.lr\n",
    "        self.model.bias.grad.zero_()  # Clear out gradient\n",
    "        \n",
    "def sigmoid(x):\n",
    "    return 1. / (1. + torch.exp(-x))\n",
    "\n",
    "def mnist_loss(predictions, labels):\n",
    "    predictions = predictions.sigmoid()\n",
    "    loss = torch.where(labels == 1, 1 - predictions, predictions)\n",
    "    return loss.mean()\n",
    "\n",
    "def batch_accuracy(xb, yb):\n",
    "    predictions = xb.sigmoid()\n",
    "    correct = (predictions > 0.5) == yb\n",
    "    return correct.float().mean()\n",
    "\n",
    "def validate_epoch(m, valid_dl):\n",
    "    accs = [batch_accuracy(m.classify(xb), yb) for xb, yb in valid_dl]\n",
    "    return round(torch.stack(accs).mean().item(), 4)"
   ]
  },
  {
   "cell_type": "code",
   "execution_count": 221,
   "metadata": {},
   "outputs": [],
   "source": [
    "dl = DataLoader(dset, batch_size=256, shuffle=True)\n",
    "valid_dl = DataLoader(dset_valid, batch_size=256)"
   ]
  },
  {
   "cell_type": "code",
   "execution_count": 223,
   "metadata": {},
   "outputs": [
    {
     "name": "stdout",
     "output_type": "stream",
     "text": [
      "0.634 0.6382 0.6342 0.6275 0.6205 0.6039 0.5943 0.5917 0.5797 0.5746 0.5681 0.5644 0.5577 0.5554 0.5521 0.5497 0.546 0.5428 0.5409 0.5381 0.5343 0.5304 0.529 0.5276 0.5272 0.5263 0.5258 0.5238 0.5219 0.5214 0.5204 0.5196 0.5196 0.5196 0.5196 0.5183 0.5183 0.5179 0.5174 0.5159 0.5159 0.5159 0.5155 0.5155 0.5132 0.5127 0.5127 0.5118 0.5113 0.5108 0.5113 0.5113 0.5113 0.5108 0.5099 0.5099 0.509 0.509 0.5081 0.5081 0.5071 0.5071 0.5071 0.5071 0.5071 0.5071 0.5071 0.5071 0.5071 0.5067 0.5071 0.5071 0.5071 0.5071 0.5071 0.5076 0.5076 0.5076 0.5076 0.5076 0.5076 0.5076 0.5076 0.5076 0.5076 0.5076 0.5081 0.5081 0.5081 0.5077 0.5077 0.5077 0.5077 0.5077 0.5077 0.5077 0.5077 0.5077 0.5077 0.5077 "
     ]
    }
   ],
   "source": [
    "lr = 1.0\n",
    "\n",
    "weights = torch.randn(28*28)\n",
    "bias = torch.randn(1)\n",
    "\n",
    "m = LinearModel(weights, bias)\n",
    "sgd = StochasticGradientDescent(m, lr, mnist_loss)\n",
    "\n",
    "for i in range(100):\n",
    "    for x, label in dl:\n",
    "        sgd.step(x, label)\n",
    "    print(validate_epoch(m, valid_dl), end=' ')"
   ]
  },
  {
   "cell_type": "code",
   "execution_count": 191,
   "metadata": {},
   "outputs": [
    {
     "data": {
      "text/plain": [
       "tensor([1.])"
      ]
     },
     "execution_count": 191,
     "metadata": {},
     "output_type": "execute_result"
    }
   ],
   "source": [
    "sigmoid(tensor([37.]))"
   ]
  },
  {
   "cell_type": "code",
   "execution_count": 141,
   "metadata": {},
   "outputs": [
    {
     "data": {
      "text/plain": [
       "256"
      ]
     },
     "execution_count": 141,
     "metadata": {},
     "output_type": "execute_result"
    }
   ],
   "source": [
    "len(first(valid_dl)[1])"
   ]
  },
  {
   "cell_type": "code",
   "execution_count": 194,
   "metadata": {},
   "outputs": [
    {
     "data": {
      "text/plain": [
       "tensor([-0.4520, -0.0352,  0.1652])"
      ]
     },
     "execution_count": 194,
     "metadata": {},
     "output_type": "execute_result"
    }
   ],
   "source": [
    "torch.randn(3)"
   ]
  },
  {
   "cell_type": "code",
   "execution_count": null,
   "metadata": {},
   "outputs": [],
   "source": []
  }
 ],
 "metadata": {
  "environment": {
   "name": "pytorch-gpu.1-6.m59",
   "type": "gcloud",
   "uri": "gcr.io/deeplearning-platform-release/pytorch-gpu.1-6:m59"
  },
  "kernelspec": {
   "display_name": "Python [conda env:fastai]",
   "language": "python",
   "name": "conda-env-fastai-py"
  },
  "language_info": {
   "codemirror_mode": {
    "name": "ipython",
    "version": 3
   },
   "file_extension": ".py",
   "mimetype": "text/x-python",
   "name": "python",
   "nbconvert_exporter": "python",
   "pygments_lexer": "ipython3",
   "version": "3.6.11"
  }
 },
 "nbformat": 4,
 "nbformat_minor": 4
}
